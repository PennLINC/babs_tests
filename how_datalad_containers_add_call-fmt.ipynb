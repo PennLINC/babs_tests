{
 "cells": [
  {
   "cell_type": "markdown",
   "metadata": {},
   "source": [
    "This Jupyter notebooks shows how the `call-fmt` was saved when `datalad containers-add`"
   ]
  },
  {
   "cell_type": "code",
   "execution_count": 1,
   "metadata": {},
   "outputs": [],
   "source": [
    "# conda activate mydatalad\n",
    "\n",
    "# set up how Jupyter notebook behaves:\n",
    "from IPython.core.interactiveshell import InteractiveShell\n",
    "InteractiveShell.ast_node_interactivity = 'all'   # print all outputs\n",
    "\n",
    "import os.path as op\n",
    "from datalad.distribution.dataset import require_dataset"
   ]
  },
  {
   "cell_type": "code",
   "execution_count": 2,
   "metadata": {},
   "outputs": [],
   "source": [
    "# input dataset:\n",
    "container_dataset_path = \"/Users/chenyzh/Desktop/Research/Satterthwaite_Lab/datalad_wrapper/data/test_babs/analysis/containers\"\n",
    "name = \"toybidsapp-0-0-3\"  # the container name, specified in `datalad containers-add`\n",
    "call_fmt = \"singularity run\""
   ]
  },
  {
   "cell_type": "code",
   "execution_count": 3,
   "metadata": {},
   "outputs": [
    {
     "name": "stdout",
     "output_type": "stream",
     "text": [
      "ds.config = \n"
     ]
    },
    {
     "data": {
      "text/plain": [
       "ConfigManager(['/opt/homebrew/etc/gitconfig', '/Users/chenyzh/Desktop/Research/Satterthwaite_Lab/datalad_wrapper/data/test_babs/analysis/containers/.datalad/config', '/Users/chenyzh/.gitconfig', '/Users/chenyzh/Desktop/Research/Satterthwaite_Lab/datalad_wrapper/data/test_babs/analysis/containers/.git/config'])"
      ]
     },
     "execution_count": 3,
     "metadata": {},
     "output_type": "execute_result"
    }
   ],
   "source": [
    "ds = require_dataset(container_dataset_path, check_installed=True,\n",
    "                             purpose='add container')\n",
    "print(\"ds.config = \")\n",
    "ds.config"
   ]
  },
  {
   "cell_type": "markdown",
   "metadata": {},
   "source": [
    "This means that `ds.config` is a `ConfigManager` class object. This class is defined [here](https://github.com/datalad/datalad/blob/master/datalad/config.py#L254). `ds.config` has two configs files specific to this container dataset: `.datalad/config` and `.git/config`."
   ]
  },
  {
   "cell_type": "markdown",
   "metadata": {},
   "source": [
    "Let's check out the two config files:"
   ]
  },
  {
   "cell_type": "code",
   "execution_count": 4,
   "metadata": {},
   "outputs": [
    {
     "name": "stdout",
     "output_type": "stream",
     "text": [
      "print `.datalad/config` file:\n",
      "[datalad \"dataset\"]\n",
      "\tid = 072e5c61-f184-44d2-9662-fc1b1cf68789\n",
      "[datalad \"containers.toybidsapp-0-0-3\"]\n",
      "\timage = .datalad/environments/toybidsapp-0-0-3/image\n",
      "\tcmdexec = singularity run\n"
     ]
    }
   ],
   "source": [
    "fn_datalad_config = op.join(container_dataset_path, \".datalad/config\")\n",
    "\n",
    "print(\"print `.datalad/config` file:\")\n",
    "!cat $fn_datalad_config"
   ]
  },
  {
   "cell_type": "code",
   "execution_count": 5,
   "metadata": {},
   "outputs": [
    {
     "name": "stdout",
     "output_type": "stream",
     "text": [
      "print `.git/config` file:\n",
      "[core]\n",
      "\trepositoryformatversion = 0\n",
      "\tfilemode = true\n",
      "\tbare = false\n",
      "\tlogallrefupdates = true\n",
      "\tignorecase = true\n",
      "\tprecomposeunicode = true\n",
      "[remote \"origin\"]\n",
      "\turl = /Users/chenyzh/Desktop/Research/Satterthwaite_Lab/datalad_wrapper/data/toybidsapp-container-docker\n",
      "\tfetch = +refs/heads/*:refs/remotes/origin/*\n",
      "\tannex-uuid = 0ddfe99d-6bc2-406a-aece-444bbad99ffa\n",
      "[branch \"master\"]\n",
      "\tremote = origin\n",
      "\tmerge = refs/heads/master\n",
      "[annex]\n",
      "\tuuid = 4305265e-bb36-424d-9a1d-2210bb8cbf27\n",
      "\tversion = 8\n",
      "[filter \"annex\"]\n",
      "\tsmudge = git-annex smudge -- %f\n",
      "\tclean = git-annex smudge --clean -- %f\n"
     ]
    }
   ],
   "source": [
    "fn_git_config = op.join(container_dataset_path, \".git/config\")\n",
    "\n",
    "print(\"print `.git/config` file:\")\n",
    "!cat $fn_git_config"
   ]
  },
  {
   "cell_type": "markdown",
   "metadata": {},
   "source": [
    "Let's see the command for saving `call-fmt`:"
   ]
  },
  {
   "cell_type": "code",
   "execution_count": 6,
   "metadata": {},
   "outputs": [
    {
     "name": "stdout",
     "output_type": "stream",
     "text": [
      "cfgbasevar = \n",
      "datalad.containers.toybidsapp-0-0-3\n"
     ]
    }
   ],
   "source": [
    "cfgbasevar = \"datalad.containers.{}\".format(name)\n",
    "print(\"cfgbasevar = \")\n",
    "print(cfgbasevar)"
   ]
  },
  {
   "cell_type": "code",
   "execution_count": 7,
   "metadata": {},
   "outputs": [],
   "source": [
    "#if call_fmt:\n",
    "\n",
    "ds.config.set(\n",
    "    \"{}.cmdexec\".format(cfgbasevar),\n",
    "    call_fmt,\n",
    "    force=True)"
   ]
  },
  {
   "cell_type": "markdown",
   "metadata": {},
   "source": [
    "The method `set()` of class object `ds.config` is defined [here](https://github.com/datalad/datalad/blob/master/datalad/config.py#L950)\n",
    "\n",
    "What this `ds.config.set` does, is to set `var = datalad.containers.toybidsapp-0-0-3.cmdexec`, as `value = call_fmt`, and `call_fmt` was got from `datalad containers-add` input flag (or a guess by datalad; see the other markdown file for more). \n",
    "\n",
    "In short, this probably does: save the `call_fmt` into `.datalad/config` file, as part of a \"dictionary\" in this config file."
   ]
  }
 ],
 "metadata": {
  "kernelspec": {
   "display_name": "Python 3.9.12 ('mydatalad')",
   "language": "python",
   "name": "python3"
  },
  "language_info": {
   "codemirror_mode": {
    "name": "ipython",
    "version": 3
   },
   "file_extension": ".py",
   "mimetype": "text/x-python",
   "name": "python",
   "nbconvert_exporter": "python",
   "pygments_lexer": "ipython3",
   "version": "3.9.12"
  },
  "orig_nbformat": 4,
  "vscode": {
   "interpreter": {
    "hash": "db259b60f6b86d680255949883ddf0de74b7e9cf285c3fc5f1dccd3fe78d756b"
   }
  }
 },
 "nbformat": 4,
 "nbformat_minor": 2
}
